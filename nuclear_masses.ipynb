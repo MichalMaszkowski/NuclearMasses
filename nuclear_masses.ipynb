{
 "cells": [
  {
   "cell_type": "markdown",
   "metadata": {},
   "source": [
    "## Nuclear Masses"
   ]
  },
  {
   "cell_type": "code",
   "execution_count": 1,
   "metadata": {},
   "outputs": [],
   "source": [
    "import ultranest\n",
    "import scipy.stats\n",
    "import pandas as pd\n",
    "import numpy as np\n",
    "import matplotlib.pyplot as plt\n",
    "import read as rd\n",
    "\n",
    "\n",
    "from ultranest.plot import cornerplot"
   ]
  },
  {
   "cell_type": "markdown",
   "metadata": {},
   "source": [
    "### Bayesian Inference"
   ]
  },
  {
   "cell_type": "code",
   "execution_count": 2,
   "metadata": {},
   "outputs": [],
   "source": [
    "df = rd.read()\n",
    "N = np.array(df[\"N\"])\n",
    "Z = np.array(df[\"Z\"])\n",
    "BE = np.array(df[\"binding\"])\n",
    "BE_err = np.array(df[\"unc_binding\"])"
   ]
  },
  {
   "cell_type": "code",
   "execution_count": 4,
   "metadata": {},
   "outputs": [],
   "source": [
    "def model(a_v,a_s,a_c,a_a,N,Z):\n",
    "    A = N + Z\n",
    "    return (a_v*A - a_s*A**(2/3) - a_c*Z*(Z-1)/(A**(1/3)) - a_a*((N-Z)**2)/A)/A"
   ]
  },
  {
   "cell_type": "code",
   "execution_count": 5,
   "metadata": {},
   "outputs": [],
   "source": [
    "# Parameters\n",
    "param_names = ['a_v', 'a_s', 'a_c', 'a_a']\n",
    "\n",
    "def loglikelihood(params):\n",
    "    (a_v, a_s, a_c, a_a) = params\n",
    "    log_like = -np.sum(((model(a_v, a_s, a_c, a_a, N, Z) - BE)/BE_err)**2 + np.log(2*np.pi*BE_err**2)) / 2 \n",
    "    return log_like\n",
    "    \n",
    "def prior(u):\n",
    "    params = u.copy()\n",
    "    params[0] = scipy.stats.norm.ppf(u[0], 16.0, 5.)\n",
    "    params[1] = scipy.stats.norm.ppf(u[1], 16.0, 5.)\n",
    "    params[2] = scipy.stats.norm.ppf(u[2], 0.7, 0.3)\n",
    "    params[3] = u[3] * 40 \n",
    "    return params\n",
    "    "
   ]
  },
  {
   "cell_type": "code",
   "execution_count": 6,
   "metadata": {},
   "outputs": [],
   "source": [
    "sampler = ultranest.ReactiveNestedSampler(param_names, loglikelihood, prior)"
   ]
  },
  {
   "cell_type": "code",
   "execution_count": 7,
   "metadata": {},
   "outputs": [
    {
     "name": "stdout",
     "output_type": "stream",
     "text": [
      "[ultranest] Sampling 400 live points from prior ...\n"
     ]
    },
    {
     "data": {
      "application/vnd.jupyter.widget-view+json": {
       "model_id": "5b3cd66cfd944244946816f02a5dfbc8",
       "version_major": 2,
       "version_minor": 0
      },
      "text/plain": [
       "VBox(children=(HTML(value=''), GridspecLayout(children=(HTML(value=\"<div style='background-color:#6E6BF4;'>&nb…"
      ]
     },
     "metadata": {},
     "output_type": "display_data"
    },
    {
     "name": "stdout",
     "output_type": "stream",
     "text": [
      "Z=-2e+16(0.00%) | Like=-1.9e+16..-1.7e+16 [-1.862e+16..-1.844e+16] | it/evals=6674/48428 eff=13.8961% N=400 \r"
     ]
    },
    {
     "name": "stderr",
     "output_type": "stream",
     "text": [
      "/opt/anaconda3/lib/python3.12/site-packages/ultranest/integrator.py:1903: UserWarning: Sampling from region seems inefficient (0/40 accepted in iteration 2500). To improve efficiency, modify the transformation so that the current live points are ellipsoidal, or use a stepsampler, or set frac_remain to a lower number (e.g., 0.5) to terminate earlier.\n",
      "  u, v, logl, nc, quality = self._refill_samples(Lmin, ndraw, nit)\n"
     ]
    },
    {
     "name": "stdout",
     "output_type": "stream",
     "text": [
      "Z=-2e+16(0.00%) | Like=-1.7e+16..-1.6e+16 [-1.685e+16..-1.67e+16] | it/evals=9633/114461 eff=8.4455% N=400  \r"
     ]
    },
    {
     "ename": "KeyboardInterrupt",
     "evalue": "",
     "output_type": "error",
     "traceback": [
      "\u001b[0;31m---------------------------------------------------------------------------\u001b[0m",
      "\u001b[0;31mKeyboardInterrupt\u001b[0m                         Traceback (most recent call last)",
      "Cell \u001b[0;32mIn[7], line 1\u001b[0m\n\u001b[0;32m----> 1\u001b[0m result \u001b[38;5;241m=\u001b[39m sampler\u001b[38;5;241m.\u001b[39mrun()\n\u001b[1;32m      2\u001b[0m sampler\u001b[38;5;241m.\u001b[39mprint_results()\n\u001b[1;32m      3\u001b[0m cornerplot(result)\n",
      "File \u001b[0;32m/opt/anaconda3/lib/python3.12/site-packages/ultranest/integrator.py:2459\u001b[0m, in \u001b[0;36mReactiveNestedSampler.run\u001b[0;34m(self, update_interval_volume_fraction, update_interval_ncall, log_interval, show_status, viz_callback, dlogz, dKL, frac_remain, Lepsilon, min_ess, max_iters, max_ncalls, max_num_improvement_loops, min_num_live_points, cluster_num_live_points, insertion_test_zscore_threshold, insertion_test_window, region_class, widen_before_initial_plateau_num_warn, widen_before_initial_plateau_num_max)\u001b[0m\n\u001b[1;32m   2279\u001b[0m \u001b[38;5;28;01mdef\u001b[39;00m \u001b[38;5;21mrun\u001b[39m(\n\u001b[1;32m   2280\u001b[0m         \u001b[38;5;28mself\u001b[39m,\n\u001b[1;32m   2281\u001b[0m         update_interval_volume_fraction\u001b[38;5;241m=\u001b[39m\u001b[38;5;241m0.8\u001b[39m,\n\u001b[0;32m   (...)\u001b[0m\n\u001b[1;32m   2300\u001b[0m         widen_before_initial_plateau_num_max\u001b[38;5;241m=\u001b[39m\u001b[38;5;241m50000\u001b[39m,\n\u001b[1;32m   2301\u001b[0m ):\n\u001b[1;32m   2302\u001b[0m \u001b[38;5;250m    \u001b[39m\u001b[38;5;124mr\u001b[39m\u001b[38;5;124;03m\"\"\"Run until target convergence criteria are fulfilled.\u001b[39;00m\n\u001b[1;32m   2303\u001b[0m \n\u001b[1;32m   2304\u001b[0m \u001b[38;5;124;03m    Parameters\u001b[39;00m\n\u001b[0;32m   (...)\u001b[0m\n\u001b[1;32m   2457\u001b[0m \u001b[38;5;124;03m            - converged (bool): whether the run is converged according to the MWW test, at the given threshold\u001b[39;00m\n\u001b[1;32m   2458\u001b[0m \u001b[38;5;124;03m    \"\"\"\u001b[39;00m\n\u001b[0;32m-> 2459\u001b[0m     \u001b[38;5;28;01mfor\u001b[39;00m _result \u001b[38;5;129;01min\u001b[39;00m \u001b[38;5;28mself\u001b[39m\u001b[38;5;241m.\u001b[39mrun_iter(\n\u001b[1;32m   2460\u001b[0m         update_interval_volume_fraction\u001b[38;5;241m=\u001b[39mupdate_interval_volume_fraction,\n\u001b[1;32m   2461\u001b[0m         update_interval_ncall\u001b[38;5;241m=\u001b[39mupdate_interval_ncall,\n\u001b[1;32m   2462\u001b[0m         log_interval\u001b[38;5;241m=\u001b[39mlog_interval,\n\u001b[1;32m   2463\u001b[0m         dlogz\u001b[38;5;241m=\u001b[39mdlogz, dKL\u001b[38;5;241m=\u001b[39mdKL,\n\u001b[1;32m   2464\u001b[0m         Lepsilon\u001b[38;5;241m=\u001b[39mLepsilon, frac_remain\u001b[38;5;241m=\u001b[39mfrac_remain,\n\u001b[1;32m   2465\u001b[0m         min_ess\u001b[38;5;241m=\u001b[39mmin_ess, max_iters\u001b[38;5;241m=\u001b[39mmax_iters,\n\u001b[1;32m   2466\u001b[0m         max_ncalls\u001b[38;5;241m=\u001b[39mmax_ncalls, max_num_improvement_loops\u001b[38;5;241m=\u001b[39mmax_num_improvement_loops,\n\u001b[1;32m   2467\u001b[0m         min_num_live_points\u001b[38;5;241m=\u001b[39mmin_num_live_points,\n\u001b[1;32m   2468\u001b[0m         cluster_num_live_points\u001b[38;5;241m=\u001b[39mcluster_num_live_points,\n\u001b[1;32m   2469\u001b[0m         show_status\u001b[38;5;241m=\u001b[39mshow_status,\n\u001b[1;32m   2470\u001b[0m         viz_callback\u001b[38;5;241m=\u001b[39mviz_callback,\n\u001b[1;32m   2471\u001b[0m         insertion_test_window\u001b[38;5;241m=\u001b[39minsertion_test_window,\n\u001b[1;32m   2472\u001b[0m         insertion_test_zscore_threshold\u001b[38;5;241m=\u001b[39minsertion_test_zscore_threshold,\n\u001b[1;32m   2473\u001b[0m         region_class\u001b[38;5;241m=\u001b[39mregion_class,\n\u001b[1;32m   2474\u001b[0m         widen_before_initial_plateau_num_warn\u001b[38;5;241m=\u001b[39mwiden_before_initial_plateau_num_warn,\n\u001b[1;32m   2475\u001b[0m         widen_before_initial_plateau_num_max\u001b[38;5;241m=\u001b[39mwiden_before_initial_plateau_num_max,\n\u001b[1;32m   2476\u001b[0m     ):\n\u001b[1;32m   2477\u001b[0m         \u001b[38;5;28;01mif\u001b[39;00m \u001b[38;5;28mself\u001b[39m\u001b[38;5;241m.\u001b[39mlog:\n\u001b[1;32m   2478\u001b[0m             \u001b[38;5;28mself\u001b[39m\u001b[38;5;241m.\u001b[39mlogger\u001b[38;5;241m.\u001b[39mdebug(\u001b[38;5;124m\"\u001b[39m\u001b[38;5;124mdid a run_iter pass!\u001b[39m\u001b[38;5;124m\"\u001b[39m)\n",
      "File \u001b[0;32m/opt/anaconda3/lib/python3.12/site-packages/ultranest/integrator.py:2733\u001b[0m, in \u001b[0;36mReactiveNestedSampler.run_iter\u001b[0;34m(self, update_interval_volume_fraction, update_interval_ncall, log_interval, dlogz, dKL, frac_remain, Lepsilon, min_ess, max_iters, max_ncalls, max_num_improvement_loops, min_num_live_points, cluster_num_live_points, show_status, viz_callback, insertion_test_window, insertion_test_zscore_threshold, region_class, widen_before_initial_plateau_num_warn, widen_before_initial_plateau_num_max)\u001b[0m\n\u001b[1;32m   2730\u001b[0m     \u001b[38;5;28;01mbreak\u001b[39;00m\n\u001b[1;32m   2732\u001b[0m \u001b[38;5;66;03m# sample point\u001b[39;00m\n\u001b[0;32m-> 2733\u001b[0m u, p, L \u001b[38;5;241m=\u001b[39m \u001b[38;5;28mself\u001b[39m\u001b[38;5;241m.\u001b[39m_create_point(Lmin\u001b[38;5;241m=\u001b[39mLmin, ndraw\u001b[38;5;241m=\u001b[39mndraw, active_u\u001b[38;5;241m=\u001b[39mactive_u, active_values\u001b[38;5;241m=\u001b[39mactive_values)\n\u001b[1;32m   2734\u001b[0m child \u001b[38;5;241m=\u001b[39m \u001b[38;5;28mself\u001b[39m\u001b[38;5;241m.\u001b[39mpointpile\u001b[38;5;241m.\u001b[39mmake_node(L, u, p)\n\u001b[1;32m   2735\u001b[0m main_iterator\u001b[38;5;241m.\u001b[39mLmax \u001b[38;5;241m=\u001b[39m \u001b[38;5;28mmax\u001b[39m(main_iterator\u001b[38;5;241m.\u001b[39mLmax, L)\n",
      "File \u001b[0;32m/opt/anaconda3/lib/python3.12/site-packages/ultranest/integrator.py:1903\u001b[0m, in \u001b[0;36mReactiveNestedSampler._create_point\u001b[0;34m(self, Lmin, ndraw, active_u, active_values)\u001b[0m\n\u001b[1;32m   1901\u001b[0m     quality \u001b[38;5;241m=\u001b[39m \u001b[38;5;28mself\u001b[39m\u001b[38;5;241m.\u001b[39mstepsampler\u001b[38;5;241m.\u001b[39mnsteps\n\u001b[1;32m   1902\u001b[0m \u001b[38;5;28;01melse\u001b[39;00m:\n\u001b[0;32m-> 1903\u001b[0m     u, v, logl, nc, quality \u001b[38;5;241m=\u001b[39m \u001b[38;5;28mself\u001b[39m\u001b[38;5;241m.\u001b[39m_refill_samples(Lmin, ndraw, nit)\n\u001b[1;32m   1904\u001b[0m nit \u001b[38;5;241m+\u001b[39m\u001b[38;5;241m=\u001b[39m \u001b[38;5;241m1\u001b[39m\n\u001b[1;32m   1906\u001b[0m \u001b[38;5;28;01mif\u001b[39;00m logl \u001b[38;5;129;01mis\u001b[39;00m \u001b[38;5;28;01mNone\u001b[39;00m:\n",
      "File \u001b[0;32m/opt/anaconda3/lib/python3.12/site-packages/ultranest/integrator.py:1789\u001b[0m, in \u001b[0;36mReactiveNestedSampler._refill_samples\u001b[0;34m(self, Lmin, ndraw, nit)\u001b[0m\n\u001b[1;32m   1786\u001b[0m     nu \u001b[38;5;241m=\u001b[39m \u001b[38;5;241m1\u001b[39m\n\u001b[1;32m   1787\u001b[0m     u \u001b[38;5;241m=\u001b[39m u[:\u001b[38;5;241m1\u001b[39m,:]\n\u001b[0;32m-> 1789\u001b[0m v \u001b[38;5;241m=\u001b[39m \u001b[38;5;28mself\u001b[39m\u001b[38;5;241m.\u001b[39mtransform(u)\n\u001b[1;32m   1790\u001b[0m logl \u001b[38;5;241m=\u001b[39m np\u001b[38;5;241m.\u001b[39mones(nu) \u001b[38;5;241m*\u001b[39m \u001b[38;5;241m-\u001b[39mnp\u001b[38;5;241m.\u001b[39minf\n\u001b[1;32m   1792\u001b[0m \u001b[38;5;28;01mif\u001b[39;00m \u001b[38;5;28mself\u001b[39m\u001b[38;5;241m.\u001b[39mtregion \u001b[38;5;129;01mis\u001b[39;00m \u001b[38;5;129;01mnot\u001b[39;00m \u001b[38;5;28;01mNone\u001b[39;00m:\n\u001b[1;32m   1793\u001b[0m     \u001b[38;5;66;03m# check wrapping ellipsoid in transformed space\u001b[39;00m\n",
      "File \u001b[0;32m/opt/anaconda3/lib/python3.12/site-packages/ultranest/utils.py:137\u001b[0m, in \u001b[0;36mvectorize.<locals>.vectorized\u001b[0;34m(args)\u001b[0m\n\u001b[1;32m    135\u001b[0m \u001b[38;5;28;01mdef\u001b[39;00m \u001b[38;5;21mvectorized\u001b[39m(args):\n\u001b[1;32m    136\u001b[0m \u001b[38;5;250m    \u001b[39m\u001b[38;5;124;03m\"\"\"Vectorized version of function.\"\"\"\u001b[39;00m\n\u001b[0;32m--> 137\u001b[0m     \u001b[38;5;28;01mreturn\u001b[39;00m np\u001b[38;5;241m.\u001b[39masarray([function(arg) \u001b[38;5;28;01mfor\u001b[39;00m arg \u001b[38;5;129;01min\u001b[39;00m args])\n",
      "Cell \u001b[0;32mIn[5], line 12\u001b[0m, in \u001b[0;36mprior\u001b[0;34m(u)\u001b[0m\n\u001b[1;32m     10\u001b[0m params \u001b[38;5;241m=\u001b[39m u\u001b[38;5;241m.\u001b[39mcopy()\n\u001b[1;32m     11\u001b[0m params[\u001b[38;5;241m0\u001b[39m] \u001b[38;5;241m=\u001b[39m scipy\u001b[38;5;241m.\u001b[39mstats\u001b[38;5;241m.\u001b[39mnorm\u001b[38;5;241m.\u001b[39mppf(u[\u001b[38;5;241m0\u001b[39m], \u001b[38;5;241m16.0\u001b[39m, \u001b[38;5;241m5.\u001b[39m)\n\u001b[0;32m---> 12\u001b[0m params[\u001b[38;5;241m1\u001b[39m] \u001b[38;5;241m=\u001b[39m scipy\u001b[38;5;241m.\u001b[39mstats\u001b[38;5;241m.\u001b[39mnorm\u001b[38;5;241m.\u001b[39mppf(u[\u001b[38;5;241m1\u001b[39m], \u001b[38;5;241m16.0\u001b[39m, \u001b[38;5;241m5.\u001b[39m)\n\u001b[1;32m     13\u001b[0m params[\u001b[38;5;241m2\u001b[39m] \u001b[38;5;241m=\u001b[39m scipy\u001b[38;5;241m.\u001b[39mstats\u001b[38;5;241m.\u001b[39mnorm\u001b[38;5;241m.\u001b[39mppf(u[\u001b[38;5;241m2\u001b[39m], \u001b[38;5;241m0.7\u001b[39m, \u001b[38;5;241m0.3\u001b[39m)\n\u001b[1;32m     14\u001b[0m params[\u001b[38;5;241m3\u001b[39m] \u001b[38;5;241m=\u001b[39m u[\u001b[38;5;241m3\u001b[39m] \u001b[38;5;241m*\u001b[39m \u001b[38;5;241m40\u001b[39m \n",
      "File \u001b[0;32m/opt/anaconda3/lib/python3.12/site-packages/scipy/stats/_distn_infrastructure.py:2252\u001b[0m, in \u001b[0;36mrv_continuous.ppf\u001b[0;34m(self, q, *args, **kwds)\u001b[0m\n\u001b[1;32m   2249\u001b[0m place(output, cond3, argsreduce(cond3, upper_bound)[\u001b[38;5;241m0\u001b[39m])\n\u001b[1;32m   2251\u001b[0m \u001b[38;5;28;01mif\u001b[39;00m np\u001b[38;5;241m.\u001b[39many(cond):  \u001b[38;5;66;03m# call only if at least 1 entry\u001b[39;00m\n\u001b[0;32m-> 2252\u001b[0m     goodargs \u001b[38;5;241m=\u001b[39m argsreduce(cond, \u001b[38;5;241m*\u001b[39m((q,)\u001b[38;5;241m+\u001b[39margs\u001b[38;5;241m+\u001b[39m(scale, loc)))\n\u001b[1;32m   2253\u001b[0m     scale, loc, goodargs \u001b[38;5;241m=\u001b[39m goodargs[\u001b[38;5;241m-\u001b[39m\u001b[38;5;241m2\u001b[39m], goodargs[\u001b[38;5;241m-\u001b[39m\u001b[38;5;241m1\u001b[39m], goodargs[:\u001b[38;5;241m-\u001b[39m\u001b[38;5;241m2\u001b[39m]\n\u001b[1;32m   2254\u001b[0m     place(output, cond, \u001b[38;5;28mself\u001b[39m\u001b[38;5;241m.\u001b[39m_ppf(\u001b[38;5;241m*\u001b[39mgoodargs) \u001b[38;5;241m*\u001b[39m scale \u001b[38;5;241m+\u001b[39m loc)\n",
      "File \u001b[0;32m/opt/anaconda3/lib/python3.12/site-packages/scipy/stats/_distn_infrastructure.py:606\u001b[0m, in \u001b[0;36margsreduce\u001b[0;34m(cond, *args)\u001b[0m\n\u001b[1;32m    602\u001b[0m     newargs \u001b[38;5;241m=\u001b[39m (newargs,)\n\u001b[1;32m    604\u001b[0m \u001b[38;5;28;01mif\u001b[39;00m np\u001b[38;5;241m.\u001b[39mall(cond):\n\u001b[1;32m    605\u001b[0m     \u001b[38;5;66;03m# broadcast arrays with cond\u001b[39;00m\n\u001b[0;32m--> 606\u001b[0m     \u001b[38;5;241m*\u001b[39mnewargs, cond \u001b[38;5;241m=\u001b[39m np\u001b[38;5;241m.\u001b[39mbroadcast_arrays(\u001b[38;5;241m*\u001b[39mnewargs, cond)\n\u001b[1;32m    607\u001b[0m     \u001b[38;5;28;01mreturn\u001b[39;00m [arg\u001b[38;5;241m.\u001b[39mravel() \u001b[38;5;28;01mfor\u001b[39;00m arg \u001b[38;5;129;01min\u001b[39;00m newargs]\n\u001b[1;32m    609\u001b[0m s \u001b[38;5;241m=\u001b[39m cond\u001b[38;5;241m.\u001b[39mshape\n",
      "File \u001b[0;32m/opt/anaconda3/lib/python3.12/site-packages/numpy/lib/stride_tricks.py:546\u001b[0m, in \u001b[0;36mbroadcast_arrays\u001b[0;34m(subok, *args)\u001b[0m\n\u001b[1;32m    542\u001b[0m \u001b[38;5;28;01mif\u001b[39;00m \u001b[38;5;28mall\u001b[39m(array\u001b[38;5;241m.\u001b[39mshape \u001b[38;5;241m==\u001b[39m shape \u001b[38;5;28;01mfor\u001b[39;00m array \u001b[38;5;129;01min\u001b[39;00m args):\n\u001b[1;32m    543\u001b[0m     \u001b[38;5;66;03m# Common case where nothing needs to be broadcasted.\u001b[39;00m\n\u001b[1;32m    544\u001b[0m     \u001b[38;5;28;01mreturn\u001b[39;00m args\n\u001b[0;32m--> 546\u001b[0m \u001b[38;5;28;01mreturn\u001b[39;00m [_broadcast_to(array, shape, subok\u001b[38;5;241m=\u001b[39msubok, readonly\u001b[38;5;241m=\u001b[39m\u001b[38;5;28;01mFalse\u001b[39;00m)\n\u001b[1;32m    547\u001b[0m         \u001b[38;5;28;01mfor\u001b[39;00m array \u001b[38;5;129;01min\u001b[39;00m args]\n",
      "File \u001b[0;32m/opt/anaconda3/lib/python3.12/site-packages/numpy/lib/stride_tricks.py:349\u001b[0m, in \u001b[0;36m_broadcast_to\u001b[0;34m(array, shape, subok, readonly)\u001b[0m\n\u001b[1;32m    346\u001b[0m     \u001b[38;5;28;01mraise\u001b[39;00m \u001b[38;5;167;01mValueError\u001b[39;00m(\u001b[38;5;124m'\u001b[39m\u001b[38;5;124mall elements of broadcast shape must be non-\u001b[39m\u001b[38;5;124m'\u001b[39m\n\u001b[1;32m    347\u001b[0m                      \u001b[38;5;124m'\u001b[39m\u001b[38;5;124mnegative\u001b[39m\u001b[38;5;124m'\u001b[39m)\n\u001b[1;32m    348\u001b[0m extras \u001b[38;5;241m=\u001b[39m []\n\u001b[0;32m--> 349\u001b[0m it \u001b[38;5;241m=\u001b[39m np\u001b[38;5;241m.\u001b[39mnditer(\n\u001b[1;32m    350\u001b[0m     (array,), flags\u001b[38;5;241m=\u001b[39m[\u001b[38;5;124m'\u001b[39m\u001b[38;5;124mmulti_index\u001b[39m\u001b[38;5;124m'\u001b[39m, \u001b[38;5;124m'\u001b[39m\u001b[38;5;124mrefs_ok\u001b[39m\u001b[38;5;124m'\u001b[39m, \u001b[38;5;124m'\u001b[39m\u001b[38;5;124mzerosize_ok\u001b[39m\u001b[38;5;124m'\u001b[39m] \u001b[38;5;241m+\u001b[39m extras,\n\u001b[1;32m    351\u001b[0m     op_flags\u001b[38;5;241m=\u001b[39m[\u001b[38;5;124m'\u001b[39m\u001b[38;5;124mreadonly\u001b[39m\u001b[38;5;124m'\u001b[39m], itershape\u001b[38;5;241m=\u001b[39mshape, order\u001b[38;5;241m=\u001b[39m\u001b[38;5;124m'\u001b[39m\u001b[38;5;124mC\u001b[39m\u001b[38;5;124m'\u001b[39m)\n\u001b[1;32m    352\u001b[0m \u001b[38;5;28;01mwith\u001b[39;00m it:\n\u001b[1;32m    353\u001b[0m     \u001b[38;5;66;03m# never really has writebackifcopy semantics\u001b[39;00m\n\u001b[1;32m    354\u001b[0m     broadcast \u001b[38;5;241m=\u001b[39m it\u001b[38;5;241m.\u001b[39mitviews[\u001b[38;5;241m0\u001b[39m]\n",
      "\u001b[0;31mKeyboardInterrupt\u001b[0m: "
     ]
    }
   ],
   "source": [
    "result = sampler.run()\n",
    "sampler.print_results()\n",
    "cornerplot(result);"
   ]
  },
  {
   "cell_type": "code",
   "execution_count": null,
   "metadata": {},
   "outputs": [],
   "source": []
  }
 ],
 "metadata": {
  "kernelspec": {
   "display_name": "base",
   "language": "python",
   "name": "python3"
  },
  "language_info": {
   "codemirror_mode": {
    "name": "ipython",
    "version": 3
   },
   "file_extension": ".py",
   "mimetype": "text/x-python",
   "name": "python",
   "nbconvert_exporter": "python",
   "pygments_lexer": "ipython3",
   "version": "3.12.2"
  }
 },
 "nbformat": 4,
 "nbformat_minor": 2
}
